{
 "cells": [
  {
   "cell_type": "code",
   "execution_count": 1,
   "id": "24d0052e",
   "metadata": {},
   "outputs": [
    {
     "ename": "KeyboardInterrupt",
     "evalue": "",
     "output_type": "error",
     "traceback": [
      "\u001b[31m---------------------------------------------------------------------------\u001b[39m",
      "\u001b[31mKeyboardInterrupt\u001b[39m                         Traceback (most recent call last)",
      "\u001b[36mCell\u001b[39m\u001b[36m \u001b[39m\u001b[32mIn[1]\u001b[39m\u001b[32m, line 5\u001b[39m\n\u001b[32m      3\u001b[39m \u001b[38;5;28;01mimport\u001b[39;00m\u001b[38;5;250m \u001b[39m\u001b[34;01mnumpy\u001b[39;00m\u001b[38;5;250m \u001b[39m\u001b[38;5;28;01mas\u001b[39;00m\u001b[38;5;250m \u001b[39m\u001b[34;01mnp\u001b[39;00m\n\u001b[32m      4\u001b[39m \u001b[38;5;28;01mfrom\u001b[39;00m\u001b[38;5;250m \u001b[39m\u001b[34;01mPIL\u001b[39;00m\u001b[38;5;250m \u001b[39m\u001b[38;5;28;01mimport\u001b[39;00m Image\n\u001b[32m----> \u001b[39m\u001b[32m5\u001b[39m \u001b[38;5;28;01mimport\u001b[39;00m\u001b[38;5;250m \u001b[39m\u001b[34;01mopen_clip\u001b[39;00m\n\u001b[32m      7\u001b[39m \u001b[38;5;28;01mimport\u001b[39;00m\u001b[38;5;250m \u001b[39m\u001b[34;01mrequests\u001b[39;00m\n\u001b[32m      8\u001b[39m \u001b[38;5;28;01mimport\u001b[39;00m\u001b[38;5;250m \u001b[39m\u001b[34;01mpickle\u001b[39;00m\n",
      "\u001b[36mFile \u001b[39m\u001b[32m/opt/miniconda3/envs/pokemon-faiss/lib/python3.11/site-packages/open_clip/__init__.py:3\u001b[39m\n\u001b[32m      1\u001b[39m \u001b[38;5;28;01mfrom\u001b[39;00m\u001b[38;5;250m \u001b[39m\u001b[34;01m.\u001b[39;00m\u001b[34;01mversion\u001b[39;00m\u001b[38;5;250m \u001b[39m\u001b[38;5;28;01mimport\u001b[39;00m __version__\n\u001b[32m----> \u001b[39m\u001b[32m3\u001b[39m \u001b[38;5;28;01mfrom\u001b[39;00m\u001b[38;5;250m \u001b[39m\u001b[34;01m.\u001b[39;00m\u001b[34;01mcoca_model\u001b[39;00m\u001b[38;5;250m \u001b[39m\u001b[38;5;28;01mimport\u001b[39;00m CoCa\n\u001b[32m      4\u001b[39m \u001b[38;5;28;01mfrom\u001b[39;00m\u001b[38;5;250m \u001b[39m\u001b[34;01m.\u001b[39;00m\u001b[34;01mconstants\u001b[39;00m\u001b[38;5;250m \u001b[39m\u001b[38;5;28;01mimport\u001b[39;00m OPENAI_DATASET_MEAN, OPENAI_DATASET_STD\n\u001b[32m      5\u001b[39m \u001b[38;5;28;01mfrom\u001b[39;00m\u001b[38;5;250m \u001b[39m\u001b[34;01m.\u001b[39;00m\u001b[34;01mfactory\u001b[39;00m\u001b[38;5;250m \u001b[39m\u001b[38;5;28;01mimport\u001b[39;00m create_model, create_model_and_transforms, create_model_from_pretrained, get_tokenizer, create_loss\n",
      "\u001b[36mFile \u001b[39m\u001b[32m/opt/miniconda3/envs/pokemon-faiss/lib/python3.11/site-packages/open_clip/coca_model.py:9\u001b[39m\n\u001b[32m      6\u001b[39m \u001b[38;5;28;01mimport\u001b[39;00m\u001b[38;5;250m \u001b[39m\u001b[34;01mnumpy\u001b[39;00m\u001b[38;5;250m \u001b[39m\u001b[38;5;28;01mas\u001b[39;00m\u001b[38;5;250m \u001b[39m\u001b[34;01mnp\u001b[39;00m\n\u001b[32m      7\u001b[39m \u001b[38;5;28;01mfrom\u001b[39;00m\u001b[38;5;250m \u001b[39m\u001b[34;01mdataclasses\u001b[39;00m\u001b[38;5;250m \u001b[39m\u001b[38;5;28;01mimport\u001b[39;00m dataclass\n\u001b[32m----> \u001b[39m\u001b[32m9\u001b[39m \u001b[38;5;28;01mfrom\u001b[39;00m\u001b[38;5;250m \u001b[39m\u001b[34;01m.\u001b[39;00m\u001b[34;01mtransformer\u001b[39;00m\u001b[38;5;250m \u001b[39m\u001b[38;5;28;01mimport\u001b[39;00m (\n\u001b[32m     10\u001b[39m     LayerNormFp32,\n\u001b[32m     11\u001b[39m     LayerNorm,\n\u001b[32m     12\u001b[39m     QuickGELU,\n\u001b[32m     13\u001b[39m     MultimodalTransformer,\n\u001b[32m     14\u001b[39m )\n\u001b[32m     15\u001b[39m \u001b[38;5;28;01mfrom\u001b[39;00m\u001b[38;5;250m \u001b[39m\u001b[34;01m.\u001b[39;00m\u001b[34;01mmodel\u001b[39;00m\u001b[38;5;250m \u001b[39m\u001b[38;5;28;01mimport\u001b[39;00m CLIPTextCfg, CLIPVisionCfg, _build_vision_tower, _build_text_tower\n\u001b[32m     17\u001b[39m \u001b[38;5;28;01mtry\u001b[39;00m:\n",
      "\u001b[36mFile \u001b[39m\u001b[32m/opt/miniconda3/envs/pokemon-faiss/lib/python3.11/site-packages/open_clip/transformer.py:10\u001b[39m\n\u001b[32m      7\u001b[39m \u001b[38;5;28;01mfrom\u001b[39;00m\u001b[38;5;250m \u001b[39m\u001b[34;01mtorch\u001b[39;00m\u001b[34;01m.\u001b[39;00m\u001b[34;01mnn\u001b[39;00m\u001b[38;5;250m \u001b[39m\u001b[38;5;28;01mimport\u001b[39;00m functional \u001b[38;5;28;01mas\u001b[39;00m F\n\u001b[32m      8\u001b[39m \u001b[38;5;28;01mfrom\u001b[39;00m\u001b[38;5;250m \u001b[39m\u001b[34;01mtorch\u001b[39;00m\u001b[34;01m.\u001b[39;00m\u001b[34;01mutils\u001b[39;00m\u001b[34;01m.\u001b[39;00m\u001b[34;01mcheckpoint\u001b[39;00m\u001b[38;5;250m \u001b[39m\u001b[38;5;28;01mimport\u001b[39;00m checkpoint\n\u001b[32m---> \u001b[39m\u001b[32m10\u001b[39m \u001b[38;5;28;01mfrom\u001b[39;00m\u001b[38;5;250m \u001b[39m\u001b[34;01m.\u001b[39;00m\u001b[34;01mutils\u001b[39;00m\u001b[38;5;250m \u001b[39m\u001b[38;5;28;01mimport\u001b[39;00m to_2tuple, feature_take_indices\n\u001b[32m     11\u001b[39m \u001b[38;5;28;01mfrom\u001b[39;00m\u001b[38;5;250m \u001b[39m\u001b[34;01m.\u001b[39;00m\u001b[34;01mpos_embed\u001b[39;00m\u001b[38;5;250m \u001b[39m\u001b[38;5;28;01mimport\u001b[39;00m get_2d_sincos_pos_embed\n\u001b[32m     14\u001b[39m \u001b[38;5;28;01mclass\u001b[39;00m\u001b[38;5;250m \u001b[39m\u001b[34;01mLayerNormFp32\u001b[39;00m(nn.LayerNorm):\n",
      "\u001b[36mFile \u001b[39m\u001b[32m/opt/miniconda3/envs/pokemon-faiss/lib/python3.11/site-packages/open_clip/utils.py:8\u001b[39m\n\u001b[32m      6\u001b[39m \u001b[38;5;28;01mfrom\u001b[39;00m\u001b[38;5;250m \u001b[39m\u001b[34;01mtorch\u001b[39;00m\u001b[38;5;250m \u001b[39m\u001b[38;5;28;01mimport\u001b[39;00m nn \u001b[38;5;28;01mas\u001b[39;00m nn\n\u001b[32m      7\u001b[39m \u001b[38;5;28;01mfrom\u001b[39;00m\u001b[38;5;250m \u001b[39m\u001b[34;01mtorch\u001b[39;00m\u001b[38;5;250m \u001b[39m\u001b[38;5;28;01mimport\u001b[39;00m _assert\n\u001b[32m----> \u001b[39m\u001b[32m8\u001b[39m \u001b[38;5;28;01mfrom\u001b[39;00m\u001b[38;5;250m \u001b[39m\u001b[34;01mtorchvision\u001b[39;00m\u001b[34;01m.\u001b[39;00m\u001b[34;01mops\u001b[39;00m\u001b[34;01m.\u001b[39;00m\u001b[34;01mmisc\u001b[39;00m\u001b[38;5;250m \u001b[39m\u001b[38;5;28;01mimport\u001b[39;00m FrozenBatchNorm2d\n\u001b[32m     11\u001b[39m \u001b[38;5;28;01mdef\u001b[39;00m\u001b[38;5;250m \u001b[39m\u001b[34mfreeze_batch_norm_2d\u001b[39m(module, module_match={}, name=\u001b[33m'\u001b[39m\u001b[33m'\u001b[39m):\n\u001b[32m     12\u001b[39m \u001b[38;5;250m    \u001b[39m\u001b[33;03m\"\"\"\u001b[39;00m\n\u001b[32m     13\u001b[39m \u001b[33;03m    Converts all `BatchNorm2d` and `SyncBatchNorm` layers of provided module into `FrozenBatchNorm2d`. If `module` is\u001b[39;00m\n\u001b[32m     14\u001b[39m \u001b[33;03m    itself an instance of either `BatchNorm2d` or `SyncBatchNorm`, it is converted into `FrozenBatchNorm2d` and\u001b[39;00m\n\u001b[32m   (...)\u001b[39m\u001b[32m     25\u001b[39m \u001b[33;03m    Inspired by https://github.com/pytorch/pytorch/blob/a5895f85be0f10212791145bfedc0261d364f103/torch/nn/modules/batchnorm.py#L762\u001b[39;00m\n\u001b[32m     26\u001b[39m \u001b[33;03m    \"\"\"\u001b[39;00m\n",
      "\u001b[36mFile \u001b[39m\u001b[32m/opt/miniconda3/envs/pokemon-faiss/lib/python3.11/site-packages/torchvision/__init__.py:6\u001b[39m\n\u001b[32m      3\u001b[39m \u001b[38;5;28;01mfrom\u001b[39;00m\u001b[38;5;250m \u001b[39m\u001b[34;01mmodulefinder\u001b[39;00m\u001b[38;5;250m \u001b[39m\u001b[38;5;28;01mimport\u001b[39;00m Module\n\u001b[32m      5\u001b[39m \u001b[38;5;28;01mimport\u001b[39;00m\u001b[38;5;250m \u001b[39m\u001b[34;01mtorch\u001b[39;00m\n\u001b[32m----> \u001b[39m\u001b[32m6\u001b[39m \u001b[38;5;28;01mfrom\u001b[39;00m\u001b[38;5;250m \u001b[39m\u001b[34;01mtorchvision\u001b[39;00m\u001b[38;5;250m \u001b[39m\u001b[38;5;28;01mimport\u001b[39;00m _meta_registrations, datasets, io, models, ops, transforms, utils\n\u001b[32m      8\u001b[39m \u001b[38;5;28;01mfrom\u001b[39;00m\u001b[38;5;250m \u001b[39m\u001b[34;01m.\u001b[39;00m\u001b[34;01mextension\u001b[39;00m\u001b[38;5;250m \u001b[39m\u001b[38;5;28;01mimport\u001b[39;00m _HAS_OPS\n\u001b[32m     10\u001b[39m \u001b[38;5;28;01mtry\u001b[39;00m:\n",
      "\u001b[36mFile \u001b[39m\u001b[32m/opt/miniconda3/envs/pokemon-faiss/lib/python3.11/site-packages/torchvision/datasets/__init__.py:23\u001b[39m\n\u001b[32m     21\u001b[39m \u001b[38;5;28;01mfrom\u001b[39;00m\u001b[38;5;250m \u001b[39m\u001b[34;01m.\u001b[39;00m\u001b[34;01mdtd\u001b[39;00m\u001b[38;5;250m \u001b[39m\u001b[38;5;28;01mimport\u001b[39;00m DTD\n\u001b[32m     22\u001b[39m \u001b[38;5;28;01mfrom\u001b[39;00m\u001b[38;5;250m \u001b[39m\u001b[34;01m.\u001b[39;00m\u001b[34;01meurosat\u001b[39;00m\u001b[38;5;250m \u001b[39m\u001b[38;5;28;01mimport\u001b[39;00m EuroSAT\n\u001b[32m---> \u001b[39m\u001b[32m23\u001b[39m \u001b[38;5;28;01mfrom\u001b[39;00m\u001b[38;5;250m \u001b[39m\u001b[34;01m.\u001b[39;00m\u001b[34;01mfakedata\u001b[39;00m\u001b[38;5;250m \u001b[39m\u001b[38;5;28;01mimport\u001b[39;00m FakeData\n\u001b[32m     24\u001b[39m \u001b[38;5;28;01mfrom\u001b[39;00m\u001b[38;5;250m \u001b[39m\u001b[34;01m.\u001b[39;00m\u001b[34;01mfer2013\u001b[39;00m\u001b[38;5;250m \u001b[39m\u001b[38;5;28;01mimport\u001b[39;00m FER2013\n\u001b[32m     25\u001b[39m \u001b[38;5;28;01mfrom\u001b[39;00m\u001b[38;5;250m \u001b[39m\u001b[34;01m.\u001b[39;00m\u001b[34;01mfgvc_aircraft\u001b[39;00m\u001b[38;5;250m \u001b[39m\u001b[38;5;28;01mimport\u001b[39;00m FGVCAircraft\n",
      "\u001b[36mFile \u001b[39m\u001b[32m/opt/miniconda3/envs/pokemon-faiss/lib/python3.11/site-packages/torchvision/datasets/fakedata.py:5\u001b[39m\n\u001b[32m      1\u001b[39m \u001b[38;5;28;01mfrom\u001b[39;00m\u001b[38;5;250m \u001b[39m\u001b[34;01mtyping\u001b[39;00m\u001b[38;5;250m \u001b[39m\u001b[38;5;28;01mimport\u001b[39;00m Any, Callable, Optional, Tuple\n\u001b[32m      3\u001b[39m \u001b[38;5;28;01mimport\u001b[39;00m\u001b[38;5;250m \u001b[39m\u001b[34;01mtorch\u001b[39;00m\n\u001b[32m----> \u001b[39m\u001b[32m5\u001b[39m \u001b[38;5;28;01mfrom\u001b[39;00m\u001b[38;5;250m \u001b[39m\u001b[34;01m.\u001b[39;00m\u001b[34;01m.\u001b[39;00m\u001b[38;5;250m \u001b[39m\u001b[38;5;28;01mimport\u001b[39;00m transforms\n\u001b[32m      6\u001b[39m \u001b[38;5;28;01mfrom\u001b[39;00m\u001b[38;5;250m \u001b[39m\u001b[34;01m.\u001b[39;00m\u001b[34;01mvision\u001b[39;00m\u001b[38;5;250m \u001b[39m\u001b[38;5;28;01mimport\u001b[39;00m VisionDataset\n\u001b[32m      9\u001b[39m \u001b[38;5;28;01mclass\u001b[39;00m\u001b[38;5;250m \u001b[39m\u001b[34;01mFakeData\u001b[39;00m(VisionDataset):\n",
      "\u001b[36mFile \u001b[39m\u001b[32m/opt/miniconda3/envs/pokemon-faiss/lib/python3.11/site-packages/torchvision/transforms/__init__.py:1\u001b[39m\n\u001b[32m----> \u001b[39m\u001b[32m1\u001b[39m \u001b[38;5;28;01mfrom\u001b[39;00m\u001b[38;5;250m \u001b[39m\u001b[34;01m.\u001b[39;00m\u001b[34;01mtransforms\u001b[39;00m\u001b[38;5;250m \u001b[39m\u001b[38;5;28;01mimport\u001b[39;00m *\n\u001b[32m      2\u001b[39m \u001b[38;5;28;01mfrom\u001b[39;00m\u001b[38;5;250m \u001b[39m\u001b[34;01m.\u001b[39;00m\u001b[34;01mautoaugment\u001b[39;00m\u001b[38;5;250m \u001b[39m\u001b[38;5;28;01mimport\u001b[39;00m *\n",
      "\u001b[36mFile \u001b[39m\u001b[32m/opt/miniconda3/envs/pokemon-faiss/lib/python3.11/site-packages/torchvision/transforms/transforms.py:17\u001b[39m\n\u001b[32m     14\u001b[39m     accimage = \u001b[38;5;28;01mNone\u001b[39;00m\n\u001b[32m     16\u001b[39m \u001b[38;5;28;01mfrom\u001b[39;00m\u001b[38;5;250m \u001b[39m\u001b[34;01m.\u001b[39;00m\u001b[34;01m.\u001b[39;00m\u001b[34;01mutils\u001b[39;00m\u001b[38;5;250m \u001b[39m\u001b[38;5;28;01mimport\u001b[39;00m _log_api_usage_once\n\u001b[32m---> \u001b[39m\u001b[32m17\u001b[39m \u001b[38;5;28;01mfrom\u001b[39;00m\u001b[38;5;250m \u001b[39m\u001b[34;01m.\u001b[39;00m\u001b[38;5;250m \u001b[39m\u001b[38;5;28;01mimport\u001b[39;00m functional \u001b[38;5;28;01mas\u001b[39;00m F\n\u001b[32m     18\u001b[39m \u001b[38;5;28;01mfrom\u001b[39;00m\u001b[38;5;250m \u001b[39m\u001b[34;01m.\u001b[39;00m\u001b[34;01mfunctional\u001b[39;00m\u001b[38;5;250m \u001b[39m\u001b[38;5;28;01mimport\u001b[39;00m _interpolation_modes_from_int, InterpolationMode\n\u001b[32m     20\u001b[39m __all__ = [\n\u001b[32m     21\u001b[39m     \u001b[33m\"\u001b[39m\u001b[33mCompose\u001b[39m\u001b[33m\"\u001b[39m,\n\u001b[32m     22\u001b[39m     \u001b[33m\"\u001b[39m\u001b[33mToTensor\u001b[39m\u001b[33m\"\u001b[39m,\n\u001b[32m   (...)\u001b[39m\u001b[32m     56\u001b[39m     \u001b[33m\"\u001b[39m\u001b[33mElasticTransform\u001b[39m\u001b[33m\"\u001b[39m,\n\u001b[32m     57\u001b[39m ]\n",
      "\u001b[36mFile \u001b[39m\u001b[32m/opt/miniconda3/envs/pokemon-faiss/lib/python3.11/site-packages/torchvision/transforms/functional.py:19\u001b[39m\n\u001b[32m     16\u001b[39m     accimage = \u001b[38;5;28;01mNone\u001b[39;00m\n\u001b[32m     18\u001b[39m \u001b[38;5;28;01mfrom\u001b[39;00m\u001b[38;5;250m \u001b[39m\u001b[34;01m.\u001b[39;00m\u001b[34;01m.\u001b[39;00m\u001b[34;01mutils\u001b[39;00m\u001b[38;5;250m \u001b[39m\u001b[38;5;28;01mimport\u001b[39;00m _log_api_usage_once\n\u001b[32m---> \u001b[39m\u001b[32m19\u001b[39m \u001b[38;5;28;01mfrom\u001b[39;00m\u001b[38;5;250m \u001b[39m\u001b[34;01m.\u001b[39;00m\u001b[38;5;250m \u001b[39m\u001b[38;5;28;01mimport\u001b[39;00m _functional_pil \u001b[38;5;28;01mas\u001b[39;00m F_pil, _functional_tensor \u001b[38;5;28;01mas\u001b[39;00m F_t\n\u001b[32m     22\u001b[39m \u001b[38;5;28;01mclass\u001b[39;00m\u001b[38;5;250m \u001b[39m\u001b[34;01mInterpolationMode\u001b[39;00m(Enum):\n\u001b[32m     23\u001b[39m \u001b[38;5;250m    \u001b[39m\u001b[33;03m\"\"\"Interpolation modes\u001b[39;00m\n\u001b[32m     24\u001b[39m \u001b[33;03m    Available interpolation methods are ``nearest``, ``nearest-exact``, ``bilinear``, ``bicubic``, ``box``, ``hamming``,\u001b[39;00m\n\u001b[32m     25\u001b[39m \u001b[33;03m    and ``lanczos``.\u001b[39;00m\n\u001b[32m     26\u001b[39m \u001b[33;03m    \"\"\"\u001b[39;00m\n",
      "\u001b[36mFile \u001b[39m\u001b[32m/opt/miniconda3/envs/pokemon-faiss/lib/python3.11/site-packages/torchvision/transforms/_functional_pil.py:6\u001b[39m\n\u001b[32m      4\u001b[39m \u001b[38;5;28;01mimport\u001b[39;00m\u001b[38;5;250m \u001b[39m\u001b[34;01mnumpy\u001b[39;00m\u001b[38;5;250m \u001b[39m\u001b[38;5;28;01mas\u001b[39;00m\u001b[38;5;250m \u001b[39m\u001b[34;01mnp\u001b[39;00m\n\u001b[32m      5\u001b[39m \u001b[38;5;28;01mimport\u001b[39;00m\u001b[38;5;250m \u001b[39m\u001b[34;01mtorch\u001b[39;00m\n\u001b[32m----> \u001b[39m\u001b[32m6\u001b[39m \u001b[38;5;28;01mfrom\u001b[39;00m\u001b[38;5;250m \u001b[39m\u001b[34;01mPIL\u001b[39;00m\u001b[38;5;250m \u001b[39m\u001b[38;5;28;01mimport\u001b[39;00m Image, ImageEnhance, ImageOps\n\u001b[32m      8\u001b[39m \u001b[38;5;28;01mtry\u001b[39;00m:\n\u001b[32m      9\u001b[39m     \u001b[38;5;28;01mimport\u001b[39;00m\u001b[38;5;250m \u001b[39m\u001b[34;01maccimage\u001b[39;00m\n",
      "\u001b[36mFile \u001b[39m\u001b[32m/opt/miniconda3/envs/pokemon-faiss/lib/python3.11/site-packages/PIL/ImageEnhance.py:22\u001b[39m\n\u001b[32m      1\u001b[39m \u001b[38;5;66;03m#\u001b[39;00m\n\u001b[32m      2\u001b[39m \u001b[38;5;66;03m# The Python Imaging Library.\u001b[39;00m\n\u001b[32m      3\u001b[39m \u001b[38;5;66;03m# $Id$\u001b[39;00m\n\u001b[32m   (...)\u001b[39m\u001b[32m     18\u001b[39m \u001b[38;5;66;03m# See the README file for information on usage and redistribution.\u001b[39;00m\n\u001b[32m     19\u001b[39m \u001b[38;5;66;03m#\u001b[39;00m\n\u001b[32m     20\u001b[39m \u001b[38;5;28;01mfrom\u001b[39;00m\u001b[38;5;250m \u001b[39m\u001b[34;01m__future__\u001b[39;00m\u001b[38;5;250m \u001b[39m\u001b[38;5;28;01mimport\u001b[39;00m annotations\n\u001b[32m---> \u001b[39m\u001b[32m22\u001b[39m \u001b[38;5;28;01mfrom\u001b[39;00m\u001b[38;5;250m \u001b[39m\u001b[34;01m.\u001b[39;00m\u001b[38;5;250m \u001b[39m\u001b[38;5;28;01mimport\u001b[39;00m Image, ImageFilter, ImageStat\n\u001b[32m     25\u001b[39m \u001b[38;5;28;01mclass\u001b[39;00m\u001b[38;5;250m \u001b[39m\u001b[34;01m_Enhance\u001b[39;00m:\n\u001b[32m     26\u001b[39m     image: Image.Image\n",
      "\u001b[36mFile \u001b[39m\u001b[32m/opt/miniconda3/envs/pokemon-faiss/lib/python3.11/site-packages/PIL/ImageFilter.py:85\u001b[39m\n\u001b[32m     81\u001b[39m             \u001b[38;5;28;01mraise\u001b[39;00m \u001b[38;5;167;01mValueError\u001b[39;00m(msg)\n\u001b[32m     82\u001b[39m         \u001b[38;5;28mself\u001b[39m.filterargs = size, scale, offset, kernel\n\u001b[32m---> \u001b[39m\u001b[32m85\u001b[39m \u001b[38;5;28;43;01mclass\u001b[39;49;00m\u001b[38;5;250;43m \u001b[39;49m\u001b[34;43;01mRankFilter\u001b[39;49;00m\u001b[43m(\u001b[49m\u001b[43mFilter\u001b[49m\u001b[43m)\u001b[49m\u001b[43m:\u001b[49m\n\u001b[32m     86\u001b[39m \u001b[38;5;250;43m    \u001b[39;49m\u001b[33;43;03m\"\"\"\u001b[39;49;00m\n\u001b[32m     87\u001b[39m \u001b[33;43;03m    Create a rank filter.  The rank filter sorts all pixels in\u001b[39;49;00m\n\u001b[32m     88\u001b[39m \u001b[33;43;03m    a window of the given size, and returns the ``rank``'th value.\u001b[39;49;00m\n\u001b[32m   (...)\u001b[39m\u001b[32m     93\u001b[39m \u001b[33;43;03m                 for a max filter, etc.\u001b[39;49;00m\n\u001b[32m     94\u001b[39m \u001b[33;43;03m    \"\"\"\u001b[39;49;00m\n\u001b[32m     96\u001b[39m \u001b[43m    \u001b[49m\u001b[43mname\u001b[49m\u001b[43m \u001b[49m\u001b[43m=\u001b[49m\u001b[43m \u001b[49m\u001b[33;43m\"\u001b[39;49m\u001b[33;43mRank\u001b[39;49m\u001b[33;43m\"\u001b[39;49m\n",
      "\u001b[36mFile \u001b[39m\u001b[32m<frozen abc>:107\u001b[39m, in \u001b[36m__new__\u001b[39m\u001b[34m(mcls, name, bases, namespace, **kwargs)\u001b[39m\n",
      "\u001b[31mKeyboardInterrupt\u001b[39m: "
     ]
    }
   ],
   "source": [
    "import os\n",
    "import torch\n",
    "import numpy as np\n",
    "from PIL import Image\n",
    "import open_clip\n",
    "\n",
    "import requests\n",
    "import pickle\n",
    "from io import BytesIO\n",
    "from transformers import AutoModel, AutoImageProcessor\n",
    "\n",
    "import faiss\n",
    "import json\n",
    "\n",
    "import cv2\n",
    "import functions"
   ]
  },
  {
   "cell_type": "code",
   "execution_count": null,
   "id": "d1f3bdf9",
   "metadata": {},
   "outputs": [],
   "source": [
    "# import list of collections and lists of urls\n",
    "import pickle\n",
    "\n",
    "with open('./data/scrap/cards_metadata.pickle', 'rb') as f:\n",
    "    cards_metadata = pickle.load(f)\n",
    "\n",
    "with open('./data/scrap/cards_collections.pickle', 'rb') as f:\n",
    "    cards_collections = pickle.load(f)\n",
    "\n",
    "with open('./data/scrap/cards_urls.pickle', 'rb') as f:\n",
    "    cards_urls = pickle.load(f)   \n",
    "    \n",
    "cards_collections = sorted(cards_collections, key=str.lower)"
   ]
  },
  {
   "cell_type": "code",
   "execution_count": null,
   "id": "f8992f50",
   "metadata": {},
   "outputs": [
    {
     "name": "stderr",
     "output_type": "stream",
     "text": [
      "Using a slow image processor as `use_fast` is unset and a slow processor was saved with this model. `use_fast=True` will be the default behavior in v4.52, even if the model was saved with a slow processor. This will result in minor differences in outputs. You'll still be able to use a slow processor with `use_fast=False`.\n"
     ]
    }
   ],
   "source": [
    "model, processor, device =  functions.load_embbedings_model()"
   ]
  },
  {
   "cell_type": "code",
   "execution_count": null,
   "id": "e2f67b6a",
   "metadata": {},
   "outputs": [],
   "source": [
    "# creates vector index:\n",
    "index = faiss.IndexFlatL2(768)"
   ]
  },
  {
   "cell_type": "code",
   "execution_count": null,
   "id": "a4184077",
   "metadata": {},
   "outputs": [
    {
     "data": {
      "text/plain": [
       "['AOR', 'ASR', 'base1', 'base2']"
      ]
     },
     "execution_count": 5,
     "metadata": {},
     "output_type": "execute_result"
    }
   ],
   "source": [
    "cards_collections[:4]"
   ]
  },
  {
   "cell_type": "code",
   "execution_count": null,
   "id": "7d553f70",
   "metadata": {},
   "outputs": [
    {
     "name": "stderr",
     "output_type": "stream",
     "text": [
      "/opt/miniconda3/envs/pokemon-faiss/lib/python3.11/site-packages/PIL/Image.py:1047: UserWarning: Palette images with Transparency expressed in bytes should be converted to RGBA images\n",
      "  warnings.warn(\n"
     ]
    },
    {
     "name": "stdout",
     "output_type": "stream",
     "text": [
      "1 / 147  -  AOR  has been added to chromadb\n",
      "2 / 147  -  ASR  has been added to chromadb\n",
      "3 / 147  -  base1  has been added to chromadb\n",
      "4 / 147  -  base2  has been added to chromadb\n",
      "5 / 147  -  base3  has been added to chromadb\n",
      "6 / 147  -  base4  has been added to chromadb\n",
      "7 / 147  -  base5  has been added to chromadb\n",
      "8 / 147  -  base6  has been added to chromadb\n",
      "9 / 147  -  basep  has been added to chromadb\n",
      "10 / 147  -  BCR  has been added to chromadb\n",
      "11 / 147  -  BKP  has been added to chromadb\n",
      "12 / 147  -  BKT  has been added to chromadb\n",
      "13 / 147  -  BLK  has been added to chromadb\n",
      "14 / 147  -  BLW  has been added to chromadb\n",
      "15 / 147  -  bp  has been added to chromadb\n",
      "16 / 147  -  BRS  has been added to chromadb\n",
      "17 / 147  -  BST  has been added to chromadb\n",
      "ERROR - Card :  BUS_112a_R_EN_LG.png  could not be loaded\n",
      "ERROR - Card :  BUS_115a_R_EN_LG.png  could not be loaded\n",
      "18 / 147  -  BUS  has been added to chromadb\n",
      "ERROR - Card :  BWP_097_R_EN_LG.png  could not be loaded\n",
      "19 / 147  -  BWP  has been added to chromadb\n",
      "20 / 147  -  CEC  has been added to chromadb\n",
      "21 / 147  -  CEL  has been added to chromadb\n",
      "22 / 147  -  CES  has been added to chromadb\n",
      "23 / 147  -  CIN  has been added to chromadb\n",
      "24 / 147  -  CL  has been added to chromadb\n",
      "25 / 147  -  CPA  has been added to chromadb\n",
      "ERROR - Card :  CRE_167_R_EN_LG.png  could not be loaded\n",
      "ERROR - Card :  CRE_005_R_EN_LG.png  could not be loaded\n",
      "26 / 147  -  CRE  has been added to chromadb\n",
      "27 / 147  -  CRZ  has been added to chromadb\n",
      "28 / 147  -  DAA  has been added to chromadb\n",
      "29 / 147  -  DCR  has been added to chromadb\n",
      "30 / 147  -  DET  has been added to chromadb\n",
      "31 / 147  -  DEX  has been added to chromadb\n",
      "32 / 147  -  dp1  has been added to chromadb\n",
      "33 / 147  -  dp2  has been added to chromadb\n",
      "34 / 147  -  dp3  has been added to chromadb\n",
      "35 / 147  -  dp4  has been added to chromadb\n",
      "36 / 147  -  dp5  has been added to chromadb\n",
      "37 / 147  -  dp6  has been added to chromadb\n",
      "38 / 147  -  dp7  has been added to chromadb\n",
      "39 / 147  -  dpp  has been added to chromadb\n",
      "40 / 147  -  DRI  has been added to chromadb\n",
      "41 / 147  -  DRM  has been added to chromadb\n",
      "42 / 147  -  DRV  has been added to chromadb\n",
      "43 / 147  -  DRX  has been added to chromadb\n",
      "44 / 147  -  ecard1  has been added to chromadb\n",
      "45 / 147  -  ecard2  has been added to chromadb\n",
      "46 / 147  -  ecard3  has been added to chromadb\n",
      "47 / 147  -  EPO  has been added to chromadb\n",
      "48 / 147  -  EVO  has been added to chromadb\n",
      "49 / 147  -  EVS  has been added to chromadb\n",
      "50 / 147  -  ex1  has been added to chromadb\n",
      "51 / 147  -  ex10  has been added to chromadb\n",
      "52 / 147  -  ex11  has been added to chromadb\n",
      "53 / 147  -  ex12  has been added to chromadb\n",
      "54 / 147  -  ex13  has been added to chromadb\n",
      "55 / 147  -  ex14  has been added to chromadb\n",
      "56 / 147  -  ex15  has been added to chromadb\n",
      "57 / 147  -  ex16  has been added to chromadb\n",
      "58 / 147  -  ex2  has been added to chromadb\n",
      "59 / 147  -  ex3  has been added to chromadb\n",
      "60 / 147  -  ex4  has been added to chromadb\n",
      "61 / 147  -  ex5  has been added to chromadb\n",
      "62 / 147  -  ex6  has been added to chromadb\n",
      "63 / 147  -  ex7  has been added to chromadb\n",
      "64 / 147  -  ex8  has been added to chromadb\n",
      "65 / 147  -  ex9  has been added to chromadb\n",
      "66 / 147  -  FCO  has been added to chromadb\n",
      "67 / 147  -  FFI  has been added to chromadb\n",
      "68 / 147  -  FLF  has been added to chromadb\n",
      "ERROR - Card :  FLI_102a_R_EN_LG.png  could not be loaded\n",
      "69 / 147  -  FLI  has been added to chromadb\n",
      "70 / 147  -  FST  has been added to chromadb\n",
      "71 / 147  -  GEN  has been added to chromadb\n",
      "ERROR - Card :  GRI_121a_R_EN_LG.png  could not be loaded\n",
      "72 / 147  -  GRI  has been added to chromadb\n",
      "73 / 147  -  gym1  has been added to chromadb\n",
      "74 / 147  -  gym2  has been added to chromadb\n",
      "75 / 147  -  HIF  has been added to chromadb\n",
      "76 / 147  -  HS  has been added to chromadb\n",
      "77 / 147  -  HSP  has been added to chromadb\n",
      "78 / 147  -  JTG  has been added to chromadb\n",
      "79 / 147  -  KSS  has been added to chromadb\n",
      "80 / 147  -  LOR  has been added to chromadb\n",
      "ERROR - Card :  LOT_188a_R_EN_LG.png  could not be loaded\n",
      "81 / 147  -  LOT  has been added to chromadb\n",
      "82 / 147  -  LTR  has been added to chromadb\n",
      "83 / 147  -  MEG  has been added to chromadb\n",
      "84 / 147  -  MEP  has been added to chromadb\n",
      "85 / 147  -  MEW  has been added to chromadb\n",
      "86 / 147  -  neo1  has been added to chromadb\n",
      "87 / 147  -  neo2  has been added to chromadb\n",
      "88 / 147  -  neo3  has been added to chromadb\n",
      "89 / 147  -  neo4  has been added to chromadb\n",
      "90 / 147  -  np  has been added to chromadb\n",
      "91 / 147  -  NVI  has been added to chromadb\n",
      "92 / 147  -  NXD  has been added to chromadb\n",
      "93 / 147  -  OBF  has been added to chromadb\n",
      "94 / 147  -  PAF  has been added to chromadb\n",
      "95 / 147  -  PAL  has been added to chromadb\n",
      "96 / 147  -  PAR  has been added to chromadb\n",
      "97 / 147  -  PGO  has been added to chromadb\n",
      "98 / 147  -  PHF  has been added to chromadb\n",
      "99 / 147  -  pl1  has been added to chromadb\n",
      "100 / 147  -  pl2  has been added to chromadb\n",
      "101 / 147  -  pl3  has been added to chromadb\n",
      "102 / 147  -  pl4  has been added to chromadb\n",
      "103 / 147  -  PLB  has been added to chromadb\n",
      "104 / 147  -  PLF  has been added to chromadb\n",
      "105 / 147  -  PLS  has been added to chromadb\n",
      "106 / 147  -  pop1  has been added to chromadb\n",
      "107 / 147  -  pop2  has been added to chromadb\n",
      "108 / 147  -  pop3  has been added to chromadb\n",
      "109 / 147  -  pop4  has been added to chromadb\n",
      "110 / 147  -  pop5  has been added to chromadb\n",
      "111 / 147  -  pop6  has been added to chromadb\n",
      "112 / 147  -  pop7  has been added to chromadb\n",
      "113 / 147  -  pop8  has been added to chromadb\n",
      "114 / 147  -  pop9  has been added to chromadb\n",
      "115 / 147  -  PRC  has been added to chromadb\n",
      "116 / 147  -  PRE  has been added to chromadb\n",
      "117 / 147  -  RCL  has been added to chromadb\n",
      "118 / 147  -  ROS  has been added to chromadb\n",
      "119 / 147  -  ru1  has been added to chromadb\n",
      "120 / 147  -  SCR  has been added to chromadb\n",
      "121 / 147  -  SFA  has been added to chromadb\n",
      "122 / 147  -  SHF  has been added to chromadb\n",
      "123 / 147  -  si1  has been added to chromadb\n",
      "124 / 147  -  SIT  has been added to chromadb\n",
      "ERROR - Card :  SLG_068a_R_EN_LG.png  could not be loaded\n",
      "125 / 147  -  SLG  has been added to chromadb\n",
      "ERROR - Card :  SMP_109_R_EN_LG.png  could not be loaded\n",
      "ERROR - Card :  SMP_111_R_EN_LG.png  could not be loaded\n",
      "ERROR - Card :  SMP_110_R_EN_LG.png  could not be loaded\n",
      "ERROR - Card :  SMP_113_R_EN_LG.png  could not be loaded\n",
      "ERROR - Card :  SMP_112_R_EN_LG.png  could not be loaded\n",
      "ERROR - Card :  SMP_114_R_EN_LG.png  could not be loaded\n",
      "ERROR - Card :  SMP_004_R_EN_LG.png  could not be loaded\n",
      "ERROR - Card :  SMP_108_R_EN_LG.png  could not be loaded\n",
      "126 / 147  -  SMP  has been added to chromadb\n",
      "ERROR - Card :  SP_301_R_EN_LG.png  could not be loaded\n",
      "127 / 147  -  SP  has been added to chromadb\n",
      "128 / 147  -  SSH  has been added to chromadb\n",
      "129 / 147  -  SSP  has been added to chromadb\n",
      "130 / 147  -  STS  has been added to chromadb\n",
      "131 / 147  -  SUM  has been added to chromadb\n",
      "132 / 147  -  SVE  has been added to chromadb\n",
      "133 / 147  -  SVI  has been added to chromadb\n",
      "134 / 147  -  SVP  has been added to chromadb\n",
      "135 / 147  -  TEF  has been added to chromadb\n",
      "ERROR - Card :  TEU_152a_R_EN_LG.png  could not be loaded\n",
      "136 / 147  -  TEU  has been added to chromadb\n",
      "137 / 147  -  TM  has been added to chromadb\n",
      "138 / 147  -  TWM  has been added to chromadb\n",
      "139 / 147  -  UD  has been added to chromadb\n",
      "140 / 147  -  UL  has been added to chromadb\n",
      "ERROR - Card :  UNB_182a_R_EN_LG.png  could not be loaded\n",
      "ERROR - Card :  UNB_189a_R_EN_LG.png  could not be loaded\n",
      "141 / 147  -  UNB  has been added to chromadb\n",
      "ERROR - Card :  UNM_191a_R_EN_LG.png  could not be loaded\n",
      "142 / 147  -  UNM  has been added to chromadb\n",
      "ERROR - Card :  UPR_135a_R_EN_LG.png  could not be loaded\n",
      "ERROR - Card :  UPR_119a_R_EN_LG.png  could not be loaded\n",
      "ERROR - Card :  UPR_125a_R_EN_LG.png  could not be loaded\n",
      "ERROR - Card :  UPR_153a_R_EN_LG.png  could not be loaded\n",
      "143 / 147  -  UPR  has been added to chromadb\n",
      "144 / 147  -  VIV  has been added to chromadb\n",
      "145 / 147  -  WHT  has been added to chromadb\n",
      "146 / 147  -  XY  has been added to chromadb\n",
      "ERROR - Card :  XYP_039_R_EN_LG.png  could not be loaded\n",
      "ERROR - Card :  XYP_094_R_EN_LG.png  could not be loaded\n",
      "ERROR - Card :  XYP_091_R_EN_LG.png  could not be loaded\n",
      "ERROR - Card :  XYP_176_R_EN_LG.png  could not be loaded\n",
      "ERROR - Card :  XYP_060_R_EN_LG.png  could not be loaded\n",
      "ERROR - Card :  XYP_068_R_EN_LG.png  could not be loaded\n",
      "ERROR - Card :  XYP_027_R_EN_LG.png  could not be loaded\n",
      "ERROR - Card :  XYP_046_R_EN_LG.png  could not be loaded\n",
      "ERROR - Card :  XYP_178_R_EN_LG.png  could not be loaded\n",
      "147 / 147  -  XYP  has been added to chromadb\n"
     ]
    }
   ],
   "source": [
    "embeddings = []\n",
    "schema = []\n",
    "sub_cards_collections = cards_collections\n",
    "\n",
    "for idx, card_collection in enumerate(sub_cards_collections):\n",
    "    embeddings = []\n",
    "    metadata = []\n",
    "    temp_metadata = [p for p in cards_metadata if p['collection'] == card_collection]\n",
    "    for card in temp_metadata:\n",
    "        try :\n",
    "            emb = functions.get_embedding(card['url'],model, processor, device)\n",
    "            embeddings.append(emb)\n",
    "            metadata.append({\"id\": card_collection + \"_\" + card['name'], \"collection\": card_collection}) \n",
    "        except : \n",
    "            print(\"ERROR - Card : \", card['name'], \" could not be loaded\")\n",
    "    # Ajout à la collection faiss\n",
    "    index.add(np.vstack(embeddings).astype(\"float32\"))\n",
    "    schema.extend(metadata)\n",
    "    print(str(idx+1),\"/\",str(len(sub_cards_collections)), \" - \", card_collection, \" has been added to chromadb\")\n",
    "    \n",
    "    #save data\n",
    "    faiss.write_index(index, f\"./faiss_db/pokemon-cards.index\")\n",
    "    with open(f\"./faiss_db/pokemon-cards_schema.json\", \"w\", encoding=\"utf-8\") as f:\n",
    "        json.dump(schema, f, indent=2, ensure_ascii=False)"
   ]
  },
  {
   "cell_type": "code",
   "execution_count": null,
   "id": "bb101c3a",
   "metadata": {},
   "outputs": [
    {
     "data": {
      "text/plain": [
       "19505"
      ]
     },
     "execution_count": 7,
     "metadata": {},
     "output_type": "execute_result"
    }
   ],
   "source": [
    "index.ntotal"
   ]
  },
  {
   "cell_type": "code",
   "execution_count": null,
   "id": "6894de6c",
   "metadata": {},
   "outputs": [],
   "source": []
  },
  {
   "cell_type": "code",
   "execution_count": null,
   "id": "60144ce2",
   "metadata": {},
   "outputs": [],
   "source": []
  }
 ],
 "metadata": {
  "kernelspec": {
   "display_name": "pokemon-faiss",
   "language": "python",
   "name": "python3"
  },
  "language_info": {
   "codemirror_mode": {
    "name": "ipython",
    "version": 3
   },
   "file_extension": ".py",
   "mimetype": "text/x-python",
   "name": "python",
   "nbconvert_exporter": "python",
   "pygments_lexer": "ipython3",
   "version": "3.11.13"
  }
 },
 "nbformat": 4,
 "nbformat_minor": 5
}
