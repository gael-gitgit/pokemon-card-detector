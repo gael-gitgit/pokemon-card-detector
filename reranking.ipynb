{
 "cells": [
  {
   "cell_type": "code",
   "execution_count": null,
   "id": "9823233c",
   "metadata": {
    "vscode": {
     "languageId": "plaintext"
    }
   },
   "outputs": [],
   "source": [
    "from skimage.metrics import structural_similarity as ssim\n",
    "import cv2\n",
    "import"
   ]
  },
  {
   "cell_type": "code",
   "execution_count": null,
   "id": "396fbc38",
   "metadata": {
    "vscode": {
     "languageId": "plaintext"
    }
   },
   "outputs": [],
   "source": [
    "\n",
    "\n",
    "def rerank_ssim(query_img, candidate_imgs, faiss_indices, faiss_scores):\n",
    "    \"\"\"\n",
    "    Re-rank les résultats FAISS à l’aide de SSIM.\n",
    "    \n",
    "    Args:\n",
    "        query_img: image numpy RGB\n",
    "        candidate_imgs: liste d’images numpy RGB\n",
    "        faiss_indices: indices retournés par FAISS\n",
    "        faiss_scores: scores FAISS (cosine/IP)\n",
    "        \n",
    "    Returns:\n",
    "        reranked_indices: indices triés selon la SSIM\n",
    "    \"\"\"\n",
    "    query_gray = cv2.cvtColor(query_img, cv2.COLOR_RGB2GRAY)\n",
    "    ssim_scores = []\n",
    "    \n",
    "    for img in candidate_imgs:\n",
    "        cand_gray = cv2.cvtColor(img, cv2.COLOR_RGB2GRAY)\n",
    "        s, _ = ssim(query_gray, cand_gray, full=True)\n",
    "        ssim_scores.append(s)\n",
    "    \n",
    "    # Fusionner FAISS + SSIM (pondération optionnelle)\n",
    "    combined = np.array(ssim_scores) * 0.7 + faiss_scores * 0.3\n",
    "    sorted_idx = np.argsort(-combined)\n",
    "    \n",
    "    return [faiss_indices[i] for i in sorted_idx]"
   ]
  }
 ],
 "metadata": {
  "language_info": {
   "name": "python"
  }
 },
 "nbformat": 4,
 "nbformat_minor": 5
}
